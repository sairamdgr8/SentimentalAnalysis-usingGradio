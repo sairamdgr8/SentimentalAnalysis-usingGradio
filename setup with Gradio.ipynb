{
 "cells": [
  {
   "cell_type": "code",
   "execution_count": 3,
   "metadata": {},
   "outputs": [
    {
     "name": "stdout",
     "output_type": "stream",
     "text": [
      "Collecting gradio\n",
      "  Downloading gradio-1.6.4-py3-none-any.whl (1.1 MB)\n",
      "Collecting ffmpy\n",
      "  Downloading ffmpy-0.3.0.tar.gz (4.8 kB)\n",
      "Requirement already satisfied: Flask>=1.1.1 in c:\\users\\sai\\anaconda3\\lib\\site-packages (from gradio) (1.1.2)\n",
      "Requirement already satisfied: paramiko in c:\\users\\sai\\anaconda3\\lib\\site-packages (from gradio) (2.7.1)\n",
      "Collecting Flask-BasicAuth\n",
      "  Downloading Flask-BasicAuth-0.2.0.tar.gz (16 kB)\n",
      "Requirement already satisfied: numpy in c:\\users\\sai\\anaconda3\\lib\\site-packages (from gradio) (1.18.1)\n",
      "Collecting markdown2\n",
      "  Downloading markdown2-2.4.0-py2.py3-none-any.whl (34 kB)\n",
      "Collecting flask-cachebuster\n",
      "  Downloading Flask-CacheBuster-1.0.0.tar.gz (3.1 kB)\n",
      "Requirement already satisfied: requests in c:\\users\\sai\\anaconda3\\lib\\site-packages (from gradio) (2.23.0)\n",
      "Requirement already satisfied: pandas in c:\\users\\sai\\anaconda3\\lib\\site-packages (from gradio) (1.2.3)\n",
      "Requirement already satisfied: scipy in c:\\users\\sai\\anaconda3\\lib\\site-packages (from gradio) (1.4.1)\n",
      "Requirement already satisfied: colorama>=0.3.9 in c:\\users\\sai\\anaconda3\\lib\\site-packages (from gradio) (0.4.3)\n",
      "Collecting analytics-python\n",
      "  Downloading analytics_python-1.2.9-py2.py3-none-any.whl (13 kB)\n",
      "Requirement already satisfied: scikit-image in c:\\users\\sai\\anaconda3\\lib\\site-packages (from gradio) (0.16.2)\n",
      "Collecting librosa\n",
      "  Downloading librosa-0.8.0.tar.gz (183 kB)\n",
      "Collecting Flask-Cors>=3.0.8\n",
      "  Downloading Flask_Cors-3.0.10-py2.py3-none-any.whl (14 kB)\n",
      "Requirement already satisfied: IPython in c:\\users\\sai\\anaconda3\\lib\\site-packages (from gradio) (7.13.0)\n",
      "Requirement already satisfied: itsdangerous>=0.24 in c:\\users\\sai\\anaconda3\\lib\\site-packages (from Flask>=1.1.1->gradio) (1.1.0)\n",
      "Requirement already satisfied: Werkzeug>=0.15 in c:\\users\\sai\\anaconda3\\lib\\site-packages (from Flask>=1.1.1->gradio) (1.0.1)\n",
      "Requirement already satisfied: Jinja2>=2.10.1 in c:\\users\\sai\\anaconda3\\lib\\site-packages (from Flask>=1.1.1->gradio) (2.11.2)\n",
      "Requirement already satisfied: click>=5.1 in c:\\users\\sai\\anaconda3\\lib\\site-packages (from Flask>=1.1.1->gradio) (7.1.2)\n",
      "Requirement already satisfied: Six in c:\\users\\sai\\anaconda3\\lib\\site-packages (from Flask-Cors>=3.0.8->gradio) (1.12.0)\n",
      "Requirement already satisfied: MarkupSafe>=0.23 in c:\\users\\sai\\anaconda3\\lib\\site-packages (from Jinja2>=2.10.1->Flask>=1.1.1->gradio) (1.1.1)\n",
      "Requirement already satisfied: python-dateutil>2.1 in c:\\users\\sai\\anaconda3\\lib\\site-packages (from analytics-python->gradio) (2.8.1)\n",
      "Requirement already satisfied: urllib3!=1.25.0,!=1.25.1,<1.26,>=1.21.1 in c:\\users\\sai\\anaconda3\\lib\\site-packages (from requests->gradio) (1.25.8)\n",
      "Requirement already satisfied: idna<3,>=2.5 in c:\\users\\sai\\anaconda3\\lib\\site-packages (from requests->gradio) (2.9)\n",
      "Requirement already satisfied: certifi>=2017.4.17 in c:\\users\\sai\\anaconda3\\lib\\site-packages (from requests->gradio) (2020.6.20)\n",
      "Requirement already satisfied: chardet<4,>=3.0.2 in c:\\users\\sai\\anaconda3\\lib\\site-packages (from requests->gradio) (3.0.4)\n",
      "Requirement already satisfied: decorator in c:\\users\\sai\\anaconda3\\lib\\site-packages (from IPython->gradio) (4.4.2)\n",
      "Requirement already satisfied: traitlets>=4.2 in c:\\users\\sai\\anaconda3\\lib\\site-packages (from IPython->gradio) (4.3.3)\n",
      "Requirement already satisfied: setuptools>=18.5 in c:\\users\\sai\\anaconda3\\lib\\site-packages (from IPython->gradio) (52.0.0)\n",
      "Requirement already satisfied: prompt-toolkit!=3.0.0,!=3.0.1,<3.1.0,>=2.0.0 in c:\\users\\sai\\anaconda3\\lib\\site-packages (from IPython->gradio) (3.0.5)\n",
      "Requirement already satisfied: jedi>=0.10 in c:\\users\\sai\\anaconda3\\lib\\site-packages (from IPython->gradio) (0.17.0)\n",
      "Requirement already satisfied: backcall in c:\\users\\sai\\anaconda3\\lib\\site-packages (from IPython->gradio) (0.1.0)\n",
      "Requirement already satisfied: pickleshare in c:\\users\\sai\\anaconda3\\lib\\site-packages (from IPython->gradio) (0.7.5)\n",
      "Requirement already satisfied: pygments in c:\\users\\sai\\anaconda3\\lib\\site-packages (from IPython->gradio) (2.6.1)\n",
      "Requirement already satisfied: parso>=0.7.0 in c:\\users\\sai\\anaconda3\\lib\\site-packages (from jedi>=0.10->IPython->gradio) (0.7.0)\n",
      "Requirement already satisfied: wcwidth in c:\\users\\sai\\anaconda3\\lib\\site-packages (from prompt-toolkit!=3.0.0,!=3.0.1,<3.1.0,>=2.0.0->IPython->gradio) (0.1.9)\n",
      "Requirement already satisfied: ipython-genutils in c:\\users\\sai\\anaconda3\\lib\\site-packages (from traitlets>=4.2->IPython->gradio) (0.2.0)\n",
      "Collecting audioread>=2.0.0\n",
      "  Downloading audioread-2.1.9.tar.gz (377 kB)\n",
      "Requirement already satisfied: scikit-learn!=0.19.0,>=0.14.0 in c:\\users\\sai\\anaconda3\\lib\\site-packages (from librosa->gradio) (0.22.1)\n",
      "Requirement already satisfied: joblib>=0.14 in c:\\users\\sai\\anaconda3\\lib\\site-packages (from librosa->gradio) (0.15.1)\n",
      "Collecting resampy>=0.2.2\n",
      "  Downloading resampy-0.2.2.tar.gz (323 kB)\n",
      "Requirement already satisfied: numba>=0.43.0 in c:\\users\\sai\\anaconda3\\lib\\site-packages (from librosa->gradio) (0.49.1)\n",
      "Collecting soundfile>=0.9.0\n",
      "  Downloading SoundFile-0.10.3.post1-py2.py3.cp26.cp27.cp32.cp33.cp34.cp35.cp36.pp27.pp32.pp33-none-win_amd64.whl (689 kB)\n",
      "Collecting pooch>=1.0\n",
      "  Downloading pooch-1.3.0-py3-none-any.whl (51 kB)\n",
      "Requirement already satisfied: llvmlite<=0.33.0.dev0,>=0.31.0.dev0 in c:\\users\\sai\\anaconda3\\lib\\site-packages (from numba>=0.43.0->librosa->gradio) (0.32.1)\n",
      "Collecting appdirs\n",
      "  Using cached appdirs-1.4.4-py2.py3-none-any.whl (9.6 kB)\n",
      "Requirement already satisfied: packaging in c:\\users\\sai\\anaconda3\\lib\\site-packages (from pooch>=1.0->librosa->gradio) (20.3)\n",
      "Requirement already satisfied: cffi>=1.0 in c:\\users\\sai\\anaconda3\\lib\\site-packages (from soundfile>=0.9.0->librosa->gradio) (1.14.0)\n",
      "Requirement already satisfied: pycparser in c:\\users\\sai\\anaconda3\\lib\\site-packages (from cffi>=1.0->soundfile>=0.9.0->librosa->gradio) (2.20)\n",
      "Requirement already satisfied: pyparsing>=2.0.2 in c:\\users\\sai\\anaconda3\\lib\\site-packages (from packaging->pooch>=1.0->librosa->gradio) (2.4.7)\n",
      "Requirement already satisfied: pytz>=2017.3 in c:\\users\\sai\\anaconda3\\lib\\site-packages (from pandas->gradio) (2020.1)\n",
      "Requirement already satisfied: bcrypt>=3.1.3 in c:\\users\\sai\\anaconda3\\lib\\site-packages (from paramiko->gradio) (3.1.7)\n",
      "Requirement already satisfied: cryptography>=2.5 in c:\\users\\sai\\anaconda3\\lib\\site-packages (from paramiko->gradio) (2.9.2)\n",
      "Requirement already satisfied: pynacl>=1.0.1 in c:\\users\\sai\\anaconda3\\lib\\site-packages (from paramiko->gradio) (1.3.0)\n",
      "Requirement already satisfied: imageio>=2.3.0 in c:\\users\\sai\\anaconda3\\lib\\site-packages (from scikit-image->gradio) (2.8.0)\n",
      "Requirement already satisfied: matplotlib!=3.0.0,>=2.0.0 in c:\\users\\sai\\anaconda3\\lib\\site-packages (from scikit-image->gradio) (3.3.4)\n",
      "Requirement already satisfied: PyWavelets>=0.4.0 in c:\\users\\sai\\anaconda3\\lib\\site-packages (from scikit-image->gradio) (1.1.1)\n",
      "Requirement already satisfied: pillow>=4.3.0 in c:\\users\\sai\\anaconda3\\lib\\site-packages (from scikit-image->gradio) (7.1.2)\n",
      "Requirement already satisfied: networkx>=2.0 in c:\\users\\sai\\anaconda3\\lib\\site-packages (from scikit-image->gradio) (2.4)\n",
      "Requirement already satisfied: cycler>=0.10 in c:\\users\\sai\\anaconda3\\lib\\site-packages (from matplotlib!=3.0.0,>=2.0.0->scikit-image->gradio) (0.10.0)\n",
      "Requirement already satisfied: kiwisolver>=1.0.1 in c:\\users\\sai\\anaconda3\\lib\\site-packages (from matplotlib!=3.0.0,>=2.0.0->scikit-image->gradio) (1.2.0)\n",
      "Building wheels for collected packages: ffmpy, Flask-BasicAuth, flask-cachebuster, librosa, audioread, resampy\n",
      "  Building wheel for ffmpy (setup.py): started\n",
      "  Building wheel for ffmpy (setup.py): finished with status 'done'\n",
      "  Created wheel for ffmpy: filename=ffmpy-0.3.0-py3-none-any.whl size=4714 sha256=df3c3b5e594d89ece0bda14cd8da70a2f66d1a24e0fe4cb9bba15c616d3d848b\n",
      "  Stored in directory: c:\\users\\sai\\appdata\\local\\pip\\cache\\wheels\\13\\e4\\6c\\e8059816e86796a597c6e6b0d4c880630f51a1fcfa0befd5e6\n",
      "  Building wheel for Flask-BasicAuth (setup.py): started\n",
      "  Building wheel for Flask-BasicAuth (setup.py): finished with status 'done'\n",
      "  Created wheel for Flask-BasicAuth: filename=Flask_BasicAuth-0.2.0-py3-none-any.whl size=4232 sha256=dcd72966a60724f865945ae47e49dbeb2b33f60d0b523d1c955c1c9f3a58d482\n",
      "  Stored in directory: c:\\users\\sai\\appdata\\local\\pip\\cache\\wheels\\d5\\08\\a3\\19638d90fdf01258ede772449bcbde424839459749acb977b6\n",
      "  Building wheel for flask-cachebuster (setup.py): started\n",
      "  Building wheel for flask-cachebuster (setup.py): finished with status 'done'\n",
      "  Created wheel for flask-cachebuster: filename=Flask_CacheBuster-1.0.0-py3-none-any.whl size=3377 sha256=71a7cc709a7d84b9da4f291dce335cf714e8ea33bacb7f307ff0b02e1a107d7b\n",
      "  Stored in directory: c:\\users\\sai\\appdata\\local\\pip\\cache\\wheels\\28\\c0\\c4\\44687421dab41455be93112bd1b0dee1f3c5a9aa27bee63708\n",
      "  Building wheel for librosa (setup.py): started\n",
      "  Building wheel for librosa (setup.py): finished with status 'done'\n",
      "  Created wheel for librosa: filename=librosa-0.8.0-py3-none-any.whl size=201381 sha256=9a90fdbaf978969ba6f5e8c45b2f82eaea29c0feb80e4b39dcad7d7a353eeafd\n",
      "  Stored in directory: c:\\users\\sai\\appdata\\local\\pip\\cache\\wheels\\de\\1e\\aa\\d91797ae7e1ce11853ee100bee9d1781ae9d750e7458c95afb\n",
      "  Building wheel for audioread (setup.py): started\n",
      "  Building wheel for audioread (setup.py): finished with status 'done'\n",
      "  Created wheel for audioread: filename=audioread-2.1.9-py3-none-any.whl size=23145 sha256=21535583bd0df05d0d0ceebe4389d40f169ec70efc184829b75a8ceb43dedc1a\n",
      "  Stored in directory: c:\\users\\sai\\appdata\\local\\pip\\cache\\wheels\\ba\\7b\\eb\\213741ccc0678f63e346ab8dff10495995ca3f426af87b8d88\n",
      "  Building wheel for resampy (setup.py): started\n",
      "  Building wheel for resampy (setup.py): finished with status 'done'\n",
      "  Created wheel for resampy: filename=resampy-0.2.2-py3-none-any.whl size=320723 sha256=f580de502833683082c713aae6091698107343a5245faf0bd69b9c2d3089a326\n",
      "  Stored in directory: c:\\users\\sai\\appdata\\local\\pip\\cache\\wheels\\a0\\18\\0a\\8ad18a597d8333a142c9789338a96a6208f1198d290ece356c\n",
      "Successfully built ffmpy Flask-BasicAuth flask-cachebuster librosa audioread resampy\n",
      "Installing collected packages: appdirs, soundfile, resampy, pooch, audioread, markdown2, librosa, Flask-Cors, flask-cachebuster, Flask-BasicAuth, ffmpy, analytics-python, gradio\n",
      "Successfully installed Flask-BasicAuth-0.2.0 Flask-Cors-3.0.10 analytics-python-1.2.9 appdirs-1.4.4 audioread-2.1.9 ffmpy-0.3.0 flask-cachebuster-1.0.0 gradio-1.6.4 librosa-0.8.0 markdown2-2.4.0 pooch-1.3.0 resampy-0.2.2 soundfile-0.10.3.post1\n"
     ]
    }
   ],
   "source": [
    "!pip install gradio"
   ]
  },
  {
   "cell_type": "code",
   "execution_count": 4,
   "metadata": {},
   "outputs": [],
   "source": [
    "import gradio as gr"
   ]
  },
  {
   "cell_type": "code",
   "execution_count": 5,
   "metadata": {},
   "outputs": [],
   "source": [
    "from textblob import TextBlob"
   ]
  },
  {
   "cell_type": "code",
   "execution_count": 6,
   "metadata": {},
   "outputs": [
    {
     "name": "stdout",
     "output_type": "stream",
     "text": [
      "sai is very angry person,bad guy . he is not polite and very annoying\n"
     ]
    }
   ],
   "source": []
  },
  {
   "cell_type": "code",
   "execution_count": 55,
   "metadata": {},
   "outputs": [
    {
     "ename": "SyntaxError",
     "evalue": "invalid syntax (<ipython-input-55-748de4d6397c>, line 1)",
     "output_type": "error",
     "traceback": [
      "\u001b[1;36m  File \u001b[1;32m\"<ipython-input-55-748de4d6397c>\"\u001b[1;36m, line \u001b[1;32m1\u001b[0m\n\u001b[1;33m    def sentiment_analysis(TextBlob(text)):\u001b[0m\n\u001b[1;37m                                   ^\u001b[0m\n\u001b[1;31mSyntaxError\u001b[0m\u001b[1;31m:\u001b[0m invalid syntax\n"
     ]
    }
   ],
   "source": [
    "def sentiment_analysis(TextBlob(text)):\n",
    "    per=text.sentiment.polarity\n",
    "    if per>0:\n",
    "        return \"The given tweet looks:positive\"\n",
    "    elif per==0:\n",
    "        return \"The given tweet looks:neutral\"\n",
    "    elif per<0:\n",
    "        return \"The given tweet looks:negative\"\n",
    "    \n",
    "    \n",
    "        \n"
   ]
  },
  {
   "cell_type": "code",
   "execution_count": 49,
   "metadata": {},
   "outputs": [],
   "source": [
    "iface=gr.Interface(fn=sentiment_analysis,inputs=\"text\",outputs=\"text\")"
   ]
  },
  {
   "cell_type": "code",
   "execution_count": 48,
   "metadata": {},
   "outputs": [
    {
     "name": "stdout",
     "output_type": "stream",
     "text": [
      "Running locally at: http://127.0.0.1:7873/\n",
      "To create a public link, set `share=True` in `launch()`.\n",
      "Interface loading below...\n"
     ]
    },
    {
     "data": {
      "text/html": [
       "\n",
       "        <iframe\n",
       "            width=\"1000\"\n",
       "            height=\"500\"\n",
       "            src=\"http://127.0.0.1:7873/\"\n",
       "            frameborder=\"0\"\n",
       "            allowfullscreen\n",
       "        ></iframe>\n",
       "        "
      ],
      "text/plain": [
       "<IPython.lib.display.IFrame at 0x74826ef748>"
      ]
     },
     "metadata": {},
     "output_type": "display_data"
    },
    {
     "data": {
      "text/plain": [
       "(<Flask 'gradio.networking'>, 'http://127.0.0.1:7873/', None)"
      ]
     },
     "execution_count": 48,
     "metadata": {},
     "output_type": "execute_result"
    }
   ],
   "source": [
    "iface.launch()"
   ]
  },
  {
   "cell_type": "code",
   "execution_count": 22,
   "metadata": {},
   "outputs": [
    {
     "name": "stdout",
     "output_type": "stream",
     "text": [
      "sai is very angry person,bad guy . he is not polite and very annoying\n"
     ]
    },
    {
     "data": {
      "text/plain": [
       "'The given tweet looks:negative'"
      ]
     },
     "execution_count": 22,
     "metadata": {},
     "output_type": "execute_result"
    }
   ],
   "source": [
    "sentiment_analysis(x)"
   ]
  },
  {
   "cell_type": "code",
   "execution_count": 29,
   "metadata": {},
   "outputs": [
    {
     "name": "stdout",
     "output_type": "stream",
     "text": [
      "Running locally at: http://127.0.0.1:7867/\n",
      "To create a public link, set `share=True` in `launch()`.\n",
      "Interface loading below...\n"
     ]
    },
    {
     "data": {
      "text/html": [
       "\n",
       "        <iframe\n",
       "            width=\"1000\"\n",
       "            height=\"500\"\n",
       "            src=\"http://127.0.0.1:7867/\"\n",
       "            frameborder=\"0\"\n",
       "            allowfullscreen\n",
       "        ></iframe>\n",
       "        "
      ],
      "text/plain": [
       "<IPython.lib.display.IFrame at 0x74fe796748>"
      ]
     },
     "metadata": {},
     "output_type": "display_data"
    },
    {
     "data": {
      "text/plain": [
       "(<Flask 'gradio.networking'>, 'http://127.0.0.1:7867/', None)"
      ]
     },
     "execution_count": 29,
     "metadata": {},
     "output_type": "execute_result"
    },
    {
     "name": "stderr",
     "output_type": "stream",
     "text": [
      "[2021-04-21 17:52:36,401] ERROR in app: Exception on /api/predict/ [POST]\n",
      "Traceback (most recent call last):\n",
      "  File \"C:\\Users\\SAI\\Anaconda3\\lib\\site-packages\\flask\\app.py\", line 2447, in wsgi_app\n",
      "    response = self.full_dispatch_request()\n",
      "  File \"C:\\Users\\SAI\\Anaconda3\\lib\\site-packages\\flask\\app.py\", line 1952, in full_dispatch_request\n",
      "    rv = self.handle_user_exception(e)\n",
      "  File \"C:\\Users\\SAI\\Anaconda3\\lib\\site-packages\\flask_cors\\extension.py\", line 165, in wrapped_function\n",
      "    return cors_after_request(app.make_response(f(*args, **kwargs)))\n",
      "  File \"C:\\Users\\SAI\\Anaconda3\\lib\\site-packages\\flask\\app.py\", line 1821, in handle_user_exception\n",
      "    reraise(exc_type, exc_value, tb)\n",
      "  File \"C:\\Users\\SAI\\Anaconda3\\lib\\site-packages\\flask\\_compat.py\", line 39, in reraise\n",
      "    raise value\n",
      "  File \"C:\\Users\\SAI\\Anaconda3\\lib\\site-packages\\flask\\app.py\", line 1950, in full_dispatch_request\n",
      "    rv = self.dispatch_request()\n",
      "  File \"C:\\Users\\SAI\\Anaconda3\\lib\\site-packages\\flask\\app.py\", line 1936, in dispatch_request\n",
      "    return self.view_functions[rule.endpoint](**req.view_args)\n",
      "  File \"C:\\Users\\SAI\\Anaconda3\\lib\\site-packages\\gradio\\networking.py\", line 133, in predict\n",
      "    prediction, durations = app.interface.process(raw_input)\n",
      "  File \"C:\\Users\\SAI\\Anaconda3\\lib\\site-packages\\gradio\\interface.py\", line 272, in process\n",
      "    predictions, durations = self.run_prediction(processed_input, return_duration=True)\n",
      "  File \"C:\\Users\\SAI\\Anaconda3\\lib\\site-packages\\gradio\\interface.py\", line 246, in run_prediction\n",
      "    prediction = predict_fn(*processed_input)\n",
      "  File \"<ipython-input-21-4140ff8add21>\", line 2, in sentiment_analysis\n",
      "    x=TextBlob(input(str()))\n",
      "EOFError: EOF when reading a line\n"
     ]
    }
   ],
   "source": [
    "gr.Interface(sentiment_analysis,\n",
    "    [\n",
    "        gr.inputs.Textbox(label=\"Question\"),\n",
    "    ],\n",
    "    gr.outputs.Textbox(label=\"Answer\")).launch()"
   ]
  },
  {
   "cell_type": "code",
   "execution_count": 32,
   "metadata": {},
   "outputs": [
    {
     "ename": "SyntaxError",
     "evalue": "positional argument follows keyword argument (<ipython-input-32-706dd5958b22>, line 5)",
     "output_type": "error",
     "traceback": [
      "\u001b[1;36m  File \u001b[1;32m\"<ipython-input-32-706dd5958b22>\"\u001b[1;36m, line \u001b[1;32m5\u001b[0m\n\u001b[1;33m    gr.Interface(fn=sentiment_analysis,[gr.inputs.Textbox(label=\"Question\"),],\u001b[0m\n\u001b[1;37m                                      ^\u001b[0m\n\u001b[1;31mSyntaxError\u001b[0m\u001b[1;31m:\u001b[0m positional argument follows keyword argument\n"
     ]
    }
   ],
   "source": [
    "gr.Interface(generate_text,\n",
    "             \"textbox\", \n",
    "             gr.outputs.Textbox()).launch(share=True) #, debug=True Use in Colab\n",
    "\n",
    "gr.Interface(fn=sentiment_analysis,[gr.inputs.Textbox(label=\"Question\"),],\n",
    "             gr.outputs.Textbox(label=\"Answer\")).launch()"
   ]
  },
  {
   "cell_type": "code",
   "execution_count": 63,
   "metadata": {},
   "outputs": [
    {
     "name": "stdout",
     "output_type": "stream",
     "text": [
      "Running locally at: http://127.0.0.1:7879/\n",
      "This share link will expire in 24 hours. If you need a permanent link, visit: https://gradio.app/introducing-hosted (NEW!)\n",
      "Running on External URL: https://37354.gradio.app\n",
      "Interface loading below...\n"
     ]
    },
    {
     "data": {
      "text/html": [
       "\n",
       "        <iframe\n",
       "            width=\"1000\"\n",
       "            height=\"500\"\n",
       "            src=\"https://37354.gradio.app\"\n",
       "            frameborder=\"0\"\n",
       "            allowfullscreen\n",
       "        ></iframe>\n",
       "        "
      ],
      "text/plain": [
       "<IPython.lib.display.IFrame at 0x74ff69d5c8>"
      ]
     },
     "metadata": {},
     "output_type": "display_data"
    },
    {
     "data": {
      "text/plain": [
       "(<Flask 'gradio.networking'>,\n",
       " 'http://127.0.0.1:7879/',\n",
       " 'https://37354.gradio.app')"
      ]
     },
     "execution_count": 63,
     "metadata": {},
     "output_type": "execute_result"
    }
   ],
   "source": [
    "def greet(name):\n",
    "    x=TextBlob(name)\n",
    "    return \"hello! \",x.sentiment.polarity\n",
    "iface=gr.Interface(fn=greet,inputs=\"text\",outputs=\"text\")\n",
    "iface.launch(share=True)"
   ]
  },
  {
   "cell_type": "code",
   "execution_count": 66,
   "metadata": {},
   "outputs": [
    {
     "name": "stdout",
     "output_type": "stream",
     "text": [
      "Running locally at: http://127.0.0.1:7881/\n",
      "This share link will expire in 24 hours. If you need a permanent link, visit: https://gradio.app/introducing-hosted (NEW!)\n",
      "Running on External URL: https://35657.gradio.app\n",
      "Interface loading below...\n"
     ]
    },
    {
     "data": {
      "text/html": [
       "\n",
       "        <iframe\n",
       "            width=\"1000\"\n",
       "            height=\"500\"\n",
       "            src=\"https://35657.gradio.app\"\n",
       "            frameborder=\"0\"\n",
       "            allowfullscreen\n",
       "        ></iframe>\n",
       "        "
      ],
      "text/plain": [
       "<IPython.lib.display.IFrame at 0x74825c1488>"
      ]
     },
     "metadata": {},
     "output_type": "display_data"
    },
    {
     "data": {
      "text/plain": [
       "(<Flask 'gradio.networking'>,\n",
       " 'http://127.0.0.1:7881/',\n",
       " 'https://35657.gradio.app')"
      ]
     },
     "execution_count": 66,
     "metadata": {},
     "output_type": "execute_result"
    },
    {
     "name": "stderr",
     "output_type": "stream",
     "text": [
      "Socket exception: An existing connection was forcibly closed by the remote host (10054)\n",
      "Socket exception: An existing connection was forcibly closed by the remote host (10054)\n",
      "Socket exception: An existing connection was forcibly closed by the remote host (10054)\n",
      "Socket exception: An existing connection was forcibly closed by the remote host (10054)\n"
     ]
    }
   ],
   "source": [
    "def greet(Sai_made_Sentimental_Analysis):\n",
    "    x=TextBlob(Sai_made_Sentimental_Analysis)\n",
    "    if x.sentiment.polarity>0:\n",
    "        return \"The given tweet looks:positive\"\n",
    "    elif x.sentiment.polarity<0:\n",
    "        return \"The given tweet looks:negative\"\n",
    "    else:\n",
    "        return \"The given tweet looks:neutral\"\n",
    "iface=gr.Interface(fn=greet,inputs=\"text\",outputs=\"text\")\n",
    "iface.launch(share=True)"
   ]
  },
  {
   "cell_type": "code",
   "execution_count": null,
   "metadata": {},
   "outputs": [],
   "source": []
  }
 ],
 "metadata": {
  "kernelspec": {
   "display_name": "Python 3",
   "language": "python",
   "name": "python3"
  },
  "language_info": {
   "codemirror_mode": {
    "name": "ipython",
    "version": 3
   },
   "file_extension": ".py",
   "mimetype": "text/x-python",
   "name": "python",
   "nbconvert_exporter": "python",
   "pygments_lexer": "ipython3",
   "version": "3.7.4"
  }
 },
 "nbformat": 4,
 "nbformat_minor": 4
}
